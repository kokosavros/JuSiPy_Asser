{
 "cells": [
  {
   "cell_type": "markdown",
   "metadata": {},
   "source": [
    "# A preliminary pipeline to collect features"
   ]
  },
  {
   "cell_type": "code",
   "execution_count": 1,
   "metadata": {},
   "outputs": [],
   "source": [
    "import jusipy\n",
    "import pandas as pd"
   ]
  },
  {
   "cell_type": "code",
   "execution_count": 2,
   "metadata": {},
   "outputs": [
    {
     "name": "stdout",
     "output_type": "stream",
     "text": [
      "Loading GLCF(8km)                                                                                                     reas)                                                                                                      "
     ]
    }
   ],
   "source": [
    "# Load datasets\n",
    "LM        = jusipy.deals.LandMatrix()\n",
    "A_country = jusipy.country_features.All()\n",
    "A_latlong = jusipy.latlong_features.All()\n",
    "GLCF_8km  = A_latlong.datasets[2]         # extract from A_latlong, just to not load this one twice..."
   ]
  },
  {
   "cell_type": "code",
   "execution_count": 3,
   "metadata": {},
   "outputs": [],
   "source": [
    "# Load GIS tools\n",
    "GC = jusipy.GIS.GoogleCode(cache=jusipy.utils.FireDict(sub='googlecode'))\n",
    "CC = jusipy.GIS.CountryCode()"
   ]
  },
  {
   "cell_type": "markdown",
   "metadata": {},
   "source": [
    "## Select the points, and get the relevant data"
   ]
  },
  {
   "cell_type": "markdown",
   "metadata": {},
   "source": [
    "### Positive points from LandMatrix"
   ]
  },
  {
   "cell_type": "code",
   "execution_count": null,
   "metadata": {},
   "outputs": [],
   "source": [
    "positive_points = LM.M[['lat', 'long', 'target_country_iso3', 'year']]\n",
    "positive_points = positive_points.rename(columns={'target_country_iso3' : 'country'})\n",
    "positive_points['positive'] = 1\n",
    "positive_points['random']   = 0"
   ]
  },
  {
   "cell_type": "markdown",
   "metadata": {},
   "source": [
    "### Random points selected from around the earth"
   ]
  },
  {
   "cell_type": "code",
   "execution_count": null,
   "metadata": {},
   "outputs": [],
   "source": [
    "#random_points = pd.DataFrame(jusipy.GIS.sample.random_latlong(land=True, glcf=GLCF_8km, size=10000),\n",
    "#                             columns=['lat', 'long'])\n",
    "\n",
    "# For each random point, get the iso3 country ID\n",
    "rp_iso3 = random_points.apply(lambda r: CC[GC.latlong(r.lat, r.long).get('country_political', 'XXXXXXX')].iso3,\n",
    "                              axis=1)\n",
    "random_points['country'] = rp_iso3\n",
    "random_points['year'] = ['newest'] * rp_iso3\n",
    "random_points['positive'] = 0\n",
    "random_points['random']   = 1"
   ]
  },
  {
   "cell_type": "markdown",
   "metadata": {},
   "source": [
    "### Combine the two stacks of data"
   ]
  },
  {
   "cell_type": "code",
   "execution_count": null,
   "metadata": {},
   "outputs": [],
   "source": [
    "all_points = pd.zcat([positive_points, random_points])\n",
    "all_points"
   ]
  },
  {
   "cell_type": "markdown",
   "metadata": {},
   "source": [
    "## Visualize the Spatial data"
   ]
  },
  {
   "cell_type": "code",
   "execution_count": null,
   "metadata": {},
   "outputs": [],
   "source": [
    "plt.figure(figsize=(10,5))\n",
    "plt.scatter(all_points.long, all_points.lat, c=all_points.positive, s=2, zorder=1)"
   ]
  },
  {
   "cell_type": "markdown",
   "metadata": {},
   "source": [
    "## Collect features for each point"
   ]
  },
  {
   "cell_type": "code",
   "execution_count": null,
   "metadata": {},
   "outputs": [],
   "source": [
    "country_features = jusipy.country_features.get(all_points, A_country)\n",
    "latlong_features = jusipy.latlong_features.get(all_points, A_latlong)\n",
    "all_features = country_features.join(latlong_features)"
   ]
  },
  {
   "cell_type": "markdown",
   "metadata": {},
   "source": [
    "## Store the output"
   ]
  },
  {
   "cell_type": "code",
   "execution_count": null,
   "metadata": {},
   "outputs": [],
   "source": [
    "all_points.to_pickle('data/all_labels.pkl')\n",
    "all_features.to_pickle('data/all_features.pkl')"
   ]
  }
 ],
 "metadata": {
  "kernelspec": {
   "display_name": "Python 3",
   "language": "python",
   "name": "python3"
  },
  "language_info": {
   "codemirror_mode": {
    "name": "ipython",
    "version": 3
   },
   "file_extension": ".py",
   "mimetype": "text/x-python",
   "name": "python",
   "nbconvert_exporter": "python",
   "pygments_lexer": "ipython3",
   "version": "3.6.6"
  }
 },
 "nbformat": 4,
 "nbformat_minor": 2
}
