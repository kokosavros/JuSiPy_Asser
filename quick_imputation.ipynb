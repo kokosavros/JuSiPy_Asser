{
 "cells": [
  {
   "cell_type": "markdown",
   "metadata": {},
   "source": [
    "## NA imputation "
   ]
  },
  {
   "cell_type": "code",
   "execution_count": 1,
   "metadata": {},
   "outputs": [],
   "source": [
    "import jusipy\n",
    "import pandas as pd\n",
    "import numpy as np\n",
    "from sklearn.impute import SimpleImputer\n",
    "import missingno as msno\n",
    "import copy\n",
    "from fast_imputation import fast_imputation"
   ]
  },
  {
   "cell_type": "markdown",
   "metadata": {},
   "source": [
    "#### Loading..."
   ]
  },
  {
   "cell_type": "code",
   "execution_count": 2,
   "metadata": {},
   "outputs": [],
   "source": [
    "all_points = pd.read_pickle('data/all_points.pkl')"
   ]
  },
  {
   "cell_type": "code",
   "execution_count": 3,
   "metadata": {},
   "outputs": [
    {
     "name": "stdout",
     "output_type": "stream",
     "text": [
      "<class 'pandas.core.frame.DataFrame'>\n",
      "Int64Index: 22107 entries, 0 to 19999\n",
      "Data columns (total 6 columns):\n",
      "lat         22107 non-null object\n",
      "long        22107 non-null float64\n",
      "country     22107 non-null object\n",
      "year        22107 non-null object\n",
      "positive    22107 non-null int64\n",
      "random      22107 non-null int64\n",
      "dtypes: float64(1), int64(2), object(3)\n",
      "memory usage: 1.2+ MB\n"
     ]
    }
   ],
   "source": [
    "all_points.info()"
   ]
  },
  {
   "cell_type": "code",
   "execution_count": 4,
   "metadata": {},
   "outputs": [
    {
     "name": "stdout",
     "output_type": "stream",
     "text": [
      "Loading WorldBank(/home/marios/Desktop/Personal/repos/JuSiPy_Asser/jusipy/country_features/data/SD_API_15_DS2_en_csv_v2_10186395.csv)                                                                                                    "
     ]
    }
   ],
   "source": [
    "A_country = jusipy.country_features.All()"
   ]
  },
  {
   "cell_type": "code",
   "execution_count": 5,
   "metadata": {},
   "outputs": [],
   "source": [
    "country_features = jusipy.country_features.get(all_points, A_country, fuzzy=50)"
   ]
  },
  {
   "cell_type": "code",
   "execution_count": 6,
   "metadata": {},
   "outputs": [],
   "source": [
    "all_points2 = all_points.drop_duplicates(subset=['country','year'])"
   ]
  },
  {
   "cell_type": "code",
   "execution_count": 7,
   "metadata": {},
   "outputs": [
    {
     "name": "stdout",
     "output_type": "stream",
     "text": [
      "<class 'pandas.core.frame.DataFrame'>\n",
      "Int64Index: 776 entries, 0 to 19844\n",
      "Data columns (total 6 columns):\n",
      "lat         776 non-null object\n",
      "long        776 non-null float64\n",
      "country     776 non-null object\n",
      "year        776 non-null object\n",
      "positive    776 non-null int64\n",
      "random      776 non-null int64\n",
      "dtypes: float64(1), int64(2), object(3)\n",
      "memory usage: 42.4+ KB\n"
     ]
    }
   ],
   "source": [
    "all_points2.info()"
   ]
  },
  {
   "cell_type": "code",
   "execution_count": 8,
   "metadata": {},
   "outputs": [],
   "source": [
    "country_features = jusipy.country_features.get(all_points2, A_country, fuzzy=50)"
   ]
  },
  {
   "cell_type": "code",
   "execution_count": 9,
   "metadata": {},
   "outputs": [
    {
     "name": "stdout",
     "output_type": "stream",
     "text": [
      "<class 'pandas.core.frame.DataFrame'>\n",
      "Int64Index: 776 entries, 0 to 19844\n",
      "Columns: 396 entries, WB_LGAF__WB_LGAF2016_1_1_1 to WB_SD__SP_DYN_LE00_MA_IN\n",
      "dtypes: float64(280), object(116)\n",
      "memory usage: 2.4+ MB\n"
     ]
    }
   ],
   "source": [
    "country_features.info()"
   ]
  },
  {
   "cell_type": "markdown",
   "metadata": {},
   "source": [
    "-------------------------------------------------------------------------------"
   ]
  },
  {
   "cell_type": "markdown",
   "metadata": {},
   "source": [
    "### NA percentage (in red)"
   ]
  },
  {
   "cell_type": "code",
   "execution_count": 10,
   "metadata": {},
   "outputs": [],
   "source": [
    "# somehow unconsciouly it came out like the French flag.."
   ]
  },
  {
   "cell_type": "code",
   "execution_count": 11,
   "metadata": {},
   "outputs": [
    {
     "name": "stdout",
     "output_type": "stream",
     "text": [
      "\u001b[94mWB_LGAF__WB_LGAF2016_1_1_1: \u001b[0mRural land tenure rights (i) recognized and (ii) protected in practice has 751 NA \u001b[91m0.9677835051546392\n",
      "\u001b[94mWB_LGAF__WB_LGAF2016_1_1_2: \u001b[0mCustomary tenure rights are (i) recognized and (ii) protected in practice has 759 NA \u001b[91m0.9780927835051546\n",
      "\u001b[94mWB_LGAF__WB_LGAF2016_1_1_3: \u001b[0mIndigenous rights to land & forest are (i) recognized and (ii) protected in practice has 759 NA \u001b[91m0.9780927835051546\n",
      "\u001b[94mWB_LGAF__WB_LGAF2016_1_1_4: \u001b[0mUrban land tenure rights are (i) recognized and (ii) protected in practice has 751 NA \u001b[91m0.9677835051546392\n",
      "\u001b[94mWB_LGAF__WB_LGAF2016_1_2_1: \u001b[0mAccessible opportunities for tenure individualization exist has 752 NA \u001b[91m0.9690721649484536\n",
      "\u001b[94mWB_LGAF__WB_LGAF2016_1_2_2: \u001b[0mIndividual land in rural areas is (i) recorded and (ii) mapped has 751 NA \u001b[91m0.9677835051546392\n",
      "\u001b[94mWB_LGAF__WB_LGAF2016_1_2_3: \u001b[0mIndividual land in urban areas is (i) recorded and (ii) mapped has 751 NA \u001b[91m0.9677835051546392\n",
      "\u001b[94mWB_LGAF__WB_LGAF2016_1_2_4: \u001b[0mThe number of illegal land sales is low has 757 NA \u001b[91m0.9755154639175257\n",
      "\u001b[94mWB_LGAF__WB_LGAF2016_1_2_5: \u001b[0mThe number of illegal lease transactions is low has 756 NA \u001b[91m0.9742268041237113\n",
      "\u001b[94mWB_LGAF__WB_LGAF2016_1_2_6: \u001b[0mWomen's property rights are recorded (i) urban (ii) rural has 753 NA \u001b[91m0.970360824742268\n",
      "\u001b[94mWB_LGAF__WB_LGAF2016_1_2_7: \u001b[0mWomen's property rights to land are equal to men's (i) in law and (ii) in practice has 763 NA \u001b[91m0.9832474226804123\n",
      "\u001b[94mWB_LGAF__WB_LGAF2016_2_1_1: \u001b[0mClear identification & assignment of use for (i) forests (ii) common lands has 754 NA \u001b[91m0.9716494845360825\n",
      "\u001b[94mWB_LGAF__WB_LGAF2016_2_1_2: \u001b[0mGroup rights recognized & enforceable has 752 NA \u001b[91m0.9690721649484536\n",
      "\u001b[94mWB_LGAF__WB_LGAF2016_2_1_3: \u001b[0mUse rights recognized even on state land has 756 NA \u001b[91m0.9742268041237113\n",
      "\u001b[94mWB_LGAF__WB_LGAF2016_2_1_4: \u001b[0mMultiple rights over common land can legally coexist has 757 NA \u001b[91m0.9755154639175257\n",
      "\u001b[94mWB_LGAF__WB_LGAF2016_2_1_5: \u001b[0mMultiple rights on other lands can legally coexist (e.g. trees) has 758 NA \u001b[91m0.9768041237113402\n",
      "\u001b[94mWB_LGAF__WB_LGAF2016_2_1_6: \u001b[0mRights over & subsoil can legally coexist has 760 NA \u001b[91m0.979381443298969\n",
      "\u001b[94mWB_LGAF__WB_LGAF2016_2_1_7: \u001b[0mOpportunities for registration & mapping of group rights has 759 NA \u001b[91m0.9780927835051546\n",
      "\u001b[94mWB_LGAF__WB_LGAF2016_2_1_8: \u001b[0mBoundary demarcation of communal land has 752 NA \u001b[91m0.9690721649484536\n",
      "\u001b[94mWB_LGAF__WB_LGAF2016_2_2_1: \u001b[0mRestrictions regarding rural land use are enforced has 751 NA \u001b[91m0.9677835051546392\n",
      "\u001b[94mWB_LGAF__WB_LGAF2016_2_2_2: \u001b[0mRestrictions on rural land transferability serve public purpose has 751 NA \u001b[91m0.9677835051546392\n",
      "\u001b[94mWB_LGAF__WB_LGAF2016_2_2_3: \u001b[0mRural land use changes based on public input, burden sharing has 753 NA \u001b[91m0.970360824742268\n",
      "\u001b[94mWB_LGAF__WB_LGAF2016_2_2_4: \u001b[0mRural land use changes implemented in a timely manner has 752 NA \u001b[91m0.9690721649484536\n",
      "\u001b[94mWB_LGAF__WB_LGAF2016_2_2_5: \u001b[0mPublic process for rezoning safeguards existing rights has 756 NA \u001b[91m0.9742268041237113\n",
      "\u001b[94mWB_LGAF__WB_LGAF2016_2_2_6: \u001b[0mPlans in line with actual use has 752 NA \u001b[91m0.9690721649484536\n",
      "\u001b[94mWB_LGAF__WB_LGAF2016_3_1_1: \u001b[0mRestrictions on land ownership/transfer effectively serve public good has 754 NA \u001b[91m0.9716494845360825\n",
      "\u001b[94mWB_LGAF__WB_LGAF2016_3_1_2: \u001b[0mRestrictions on land use effectively serve public purpose has 758 NA \u001b[91m0.9768041237113402\n",
      "\u001b[94mWB_LGAF__WB_LGAF2016_3_2_1: \u001b[0mProcess for urban expansion clear, public, respects rights has 760 NA \u001b[91m0.979381443298969\n",
      "\u001b[94mWB_LGAF__WB_LGAF2016_3_2_2: \u001b[0mUrban land use plans & changes to them based on public input has 753 NA \u001b[91m0.970360824742268\n",
      "\u001b[94mWB_LGAF__WB_LGAF2016_3_2_3: \u001b[0mChanges to the assigned land use done in a timely manner has 762 NA \u001b[91m0.9819587628865979\n",
      "\u001b[94mWB_LGAF__WB_LGAF2016_3_3_1: \u001b[0mPolicy for low-cost housing & services exists, implemented has 760 NA \u001b[91m0.979381443298969\n",
      "\u001b[94mWB_LGAF__WB_LGAF2016_3_3_2: \u001b[0mLand use planning guides expansion in the largest city has 753 NA \u001b[91m0.970360824742268\n",
      "\u001b[94mWB_LGAF__WB_LGAF2016_3_3_3: \u001b[0mLand use planning guides expansion in other cities has 755 NA \u001b[91m0.9729381443298969\n",
      "\u001b[94mWB_LGAF__WB_LGAF2016_3_3_4: \u001b[0mPlanning copes with urban growth has 753 NA \u001b[91m0.970360824742268\n",
      "\u001b[94mWB_LGAF__WB_LGAF2016_3_4_1: \u001b[0mProvisions for residential building permits appropriate has 753 NA \u001b[91m0.970360824742268\n",
      "\u001b[94mWB_LGAF__WB_LGAF2016_3_4_2: \u001b[0mShort process to obtain residential building permit has 753 NA \u001b[91m0.970360824742268\n",
      "\u001b[94mWB_LGAF__WB_LGAF2016_3_5_1: \u001b[0mFormalization of urban residential housing is feasible and affordable has 754 NA \u001b[91m0.9716494845360825\n",
      "\u001b[94mWB_LGAF__WB_LGAF2016_3_5_2: \u001b[0mProcess to improve informal settlements exists has 760 NA \u001b[91m0.979381443298969\n",
      "\u001b[94mWB_LGAF__WB_LGAF2016_3_5_3: \u001b[0mCondominium regime exists to manage common property has 755 NA \u001b[91m0.9729381443298969\n",
      "\u001b[94mWB_LGAF__WB_LGAF2016_4_1_1: \u001b[0mPublic land ownership clearly defined & well managed has 751 NA \u001b[91m0.9677835051546392\n",
      "\u001b[94mWB_LGAF__WB_LGAF2016_4_1_2: \u001b[0mThere is a complete recording of public land has 751 NA \u001b[91m0.9677835051546392\n",
      "\u001b[94mWB_LGAF__WB_LGAF2016_4_1_3: \u001b[0mThe inventory of public land is accessible to the public has 753 NA \u001b[91m0.970360824742268\n",
      "\u001b[94mWB_LGAF__WB_LGAF2016_4_1_4: \u001b[0mUnambiguous assignment of management responsibility for types of public land has 751 NA \u001b[91m0.9677835051546392\n",
      "\u001b[94mWB_LGAF__WB_LGAF2016_4_1_5: \u001b[0mSufficient resources are available to fulfill responsibilities has 751 NA \u001b[91m0.9677835051546392\n",
      "\u001b[94mWB_LGAF__WB_LGAF2016_4_1_6: \u001b[0mKey information on public land allocations accessible to public has 751 NA \u001b[91m0.9677835051546392\n",
      "\u001b[94mWB_LGAF__WB_LGAF2016_4_2_1: \u001b[0mThere is minimal transfer of public land to private interests has 753 NA \u001b[91m0.970360824742268\n",
      "\u001b[94mWB_LGAF__WB_LGAF2016_4_2_2: \u001b[0mAcquired land is transferred to destined use in a timely manner has 753 NA \u001b[91m0.970360824742268\n",
      "\u001b[94mWB_LGAF__WB_LGAF2016_4_2_3: \u001b[0mLand acquisition threat does not lead to pre-emptive action has 763 NA \u001b[91m0.9832474226804123\n",
      "\u001b[94mWB_LGAF__WB_LGAF2016_4_3_1: \u001b[0mCompensation paid for all rights regardless of registration status has 751 NA \u001b[91m0.9677835051546392\n",
      "\u001b[94mWB_LGAF__WB_LGAF2016_4_3_2: \u001b[0mCompensation for land use change has 751 NA \u001b[91m0.9677835051546392\n",
      "\u001b[94mWB_LGAF__WB_LGAF2016_4_3_3: \u001b[0mAcquired owners are compensated promptly has 751 NA \u001b[91m0.9677835051546392\n",
      "\u001b[94mWB_LGAF__WB_LGAF2016_4_3_4: \u001b[0mIndependent & accessible avenues for appeal in acquisition has 753 NA \u001b[91m0.970360824742268\n",
      "\u001b[94mWB_LGAF__WB_LGAF2016_4_3_5: \u001b[0mTimely decisions regarding complaints about acquisition has 757 NA \u001b[91m0.9755154639175257\n",
      "\u001b[94mWB_LGAF__WB_LGAF2016_5_1_1: \u001b[0mPublic land transactions conducted openly & transparently has 754 NA \u001b[91m0.9716494845360825\n",
      "\u001b[94mWB_LGAF__WB_LGAF2016_5_1_2: \u001b[0mPayments for public leases are collected has 752 NA \u001b[91m0.9690721649484536\n",
      "\u001b[94mWB_LGAF__WB_LGAF2016_5_1_3: \u001b[0mPublic land transferred at market prices (except if for equity) has 752 NA \u001b[91m0.9690721649484536\n",
      "\u001b[94mWB_LGAF__WB_LGAF2016_5_1_4: \u001b[0mThe public captures benefits from changes in permitted land use has 751 NA \u001b[91m0.9677835051546392\n",
      "\u001b[94mWB_LGAF__WB_LGAF2016_5_1_5: \u001b[0mPolicy in place to improve equity in access to and use of assets has 760 NA \u001b[91m0.979381443298969\n",
      "\u001b[94mWB_LGAF__WB_LGAF2016_5_2_1: \u001b[0mLand available to investors identified in agreement with land rights holders has 756 NA \u001b[91m0.9742268041237113\n",
      "\u001b[94mWB_LGAF__WB_LGAF2016_5_2_2: \u001b[0mInvestments selected openly on economic, socio-cultural and environmental basis has 754 NA \u001b[91m0.9716494845360825\n",
      "\u001b[94mWB_LGAF__WB_LGAF2016_5_2_3: \u001b[0mNo institional overlap for public institutions involved has 754 NA \u001b[91m0.9716494845360825\n",
      "\u001b[94mWB_LGAF__WB_LGAF2016_5_2_4: \u001b[0mPublic bodies involved share information & coordinate has 756 NA \u001b[91m0.9742268041237113\n",
      "\u001b[94mWB_LGAF__WB_LGAF2016_5_2_5: \u001b[0mInvestors' compliance regularly monitored & acted upon if needed has 752 NA \u001b[91m0.9690721649484536\n",
      "\u001b[94mWB_LGAF__WB_LGAF2016_5_2_6: \u001b[0mSafeguards applied to prevent infringement on existing rights has 752 NA \u001b[91m0.9690721649484536\n",
      "\u001b[94mWB_LGAF__WB_LGAF2016_5_2_7: \u001b[0mCases with resettlement are circumscribed and well implemented has 758 NA \u001b[91m0.9768041237113402\n",
      "\u001b[94mWB_LGAF__WB_LGAF2016_5_3_1: \u001b[0mInformation from investors sufficient to assess effects has 752 NA \u001b[91m0.9690721649484536\n",
      "\u001b[94mWB_LGAF__WB_LGAF2016_5_3_2: \u001b[0mApproval of investment plans follows a clear time-bound plan has 754 NA \u001b[91m0.9716494845360825\n",
      "\u001b[94mWB_LGAF__WB_LGAF2016_5_3_3: \u001b[0mFree negotiations between right holders and investors has 754 NA \u001b[91m0.9716494845360825\n",
      "\u001b[94mWB_LGAF__WB_LGAF2016_5_3_4: \u001b[0mContractual provisions, incl. benefit sharing, publicly available has 752 NA \u001b[91m0.9690721649484536\n",
      "\u001b[94mWB_LGAF__WB_LGAF2016_5_4_1: \u001b[0mInfo. on spatial extent & duration of concessions is public has 756 NA \u001b[91m0.9742268041237113\n",
      "\u001b[94mWB_LGAF__WB_LGAF2016_5_4_2: \u001b[0mCompliance with safeguards monitored and enforced effectively has 752 NA \u001b[91m0.9690721649484536\n",
      "\u001b[94mWB_LGAF__WB_LGAF2016_5_4_3: \u001b[0mAvenues for complaints if investors do not meet obligations has 752 NA \u001b[91m0.9690721649484536\n",
      "\u001b[94mWB_LGAF__WB_LGAF2016_6_1_1: \u001b[0mTransparent process to formalize unchallenged land possession has 753 NA \u001b[91m0.970360824742268\n",
      "\u001b[94mWB_LGAF__WB_LGAF2016_6_1_2: \u001b[0mNon-documentary evidence effectively used to establish rights has 753 NA \u001b[91m0.970360824742268\n",
      "\u001b[94mWB_LGAF__WB_LGAF2016_6_1_3: \u001b[0mLong-term unchallenged possession is formally recognized has 753 NA \u001b[91m0.970360824742268\n",
      "\u001b[94mWB_LGAF__WB_LGAF2016_6_1_4: \u001b[0mFirst-time registration includes proper safeguards has 751 NA \u001b[91m0.9677835051546392\n",
      "\u001b[94mWB_LGAF__WB_LGAF2016_6_2_1: \u001b[0mThe total cost of registering a property transfer is low has 752 NA \u001b[91m0.9690721649484536\n",
      "\u001b[94mWB_LGAF__WB_LGAF2016_6_2_2: \u001b[0mRecord information incorporated in maps and reflects reality has 751 NA \u001b[91m0.9677835051546392\n",
      "\u001b[94mWB_LGAF__WB_LGAF2016_6_2_3: \u001b[0mAll relevant private encumbrances are recorded has 751 NA \u001b[91m0.9677835051546392\n",
      "\u001b[94mWB_LGAF__WB_LGAF2016_6_2_4: \u001b[0mAll relevant public restrictions or charges are recorded has 751 NA \u001b[91m0.9677835051546392\n",
      "\u001b[94mWB_LGAF__WB_LGAF2016_6_2_5: \u001b[0mTimely response to requests for accessing registry records has 751 NA \u001b[91m0.9677835051546392\n",
      "\u001b[94mWB_LGAF__WB_LGAF2016_6_2_6: \u001b[0mThe registry is searchable has 751 NA \u001b[91m0.9677835051546392\n",
      "\u001b[94mWB_LGAF__WB_LGAF2016_6_2_7: \u001b[0mLand information records are easily accessed has 751 NA \u001b[91m0.9677835051546392\n",
      "\u001b[94mWB_LGAF__WB_LGAF2016_6_3_1: \u001b[0mInformation in registries routinely & effectively synchronized has 760 NA \u001b[91m0.979381443298969\n",
      "\u001b[94mWB_LGAF__WB_LGAF2016_6_3_2: \u001b[0mRegistries information is up-to-date and reflect ground reality has 754 NA \u001b[91m0.9716494845360825\n",
      "\u001b[94mWB_LGAF__WB_LGAF2016_6_4_1: \u001b[0mThe registry is financially sustainable through fee collection has 754 NA \u001b[91m0.9716494845360825\n",
      "\u001b[94mWB_LGAF__WB_LGAF2016_6_4_2: \u001b[0mInvestment is sufficient to provide high quality services has 751 NA \u001b[91m0.9677835051546392\n",
      "\u001b[94mWB_LGAF__WB_LGAF2016_6_5_1: \u001b[0m(i) Clear rationale for fee determination; (ii) public schedule has 751 NA \u001b[91m0.9677835051546392\n",
      "\u001b[94mWB_LGAF__WB_LGAF2016_6_5_2: \u001b[0mInformal payments are discouraged has 753 NA \u001b[91m0.970360824742268\n",
      "\u001b[94mWB_LGAF__WB_LGAF2016_6_5_3: \u001b[0mService standards are published and regularly monitored has 753 NA \u001b[91m0.970360824742268\n",
      "\u001b[94mWB_LGAF__WB_LGAF2016_7_1_1: \u001b[0mThere is a clear process of property valuation has 751 NA \u001b[91m0.9677835051546392\n",
      "\u001b[94mWB_LGAF__WB_LGAF2016_7_1_2: \u001b[0mValuation rolls are publicly accessible has 753 NA \u001b[91m0.970360824742268\n",
      "\u001b[94mWB_LGAF__WB_LGAF2016_7_2_1: \u001b[0mExemptions from property taxes payment are justified & clear has 751 NA \u001b[91m0.9677835051546392\n",
      "\u001b[94mWB_LGAF__WB_LGAF2016_7_2_2: \u001b[0mProperty holders to pay property tax are listed on the tax roll has 753 NA \u001b[91m0.970360824742268\n",
      "\u001b[94mWB_LGAF__WB_LGAF2016_7_2_3: \u001b[0mAssessed property taxes are collected has 753 NA \u001b[91m0.970360824742268\n",
      "\u001b[94mWB_LGAF__WB_LGAF2016_7_2_4: \u001b[0mReceipts from property taxes exceed the cost of collection has 756 NA \u001b[91m0.9742268041237113\n",
      "\u001b[94mWB_LGAF__WB_LGAF2016_8_1_1: \u001b[0mThere is clear assignment of responsibility for conflict resolution has 751 NA \u001b[91m0.9677835051546392\n",
      "\u001b[94mWB_LGAF__WB_LGAF2016_8_1_2: \u001b[0mConflict resolution mechanisms are accessible to the public has 751 NA \u001b[91m0.9677835051546392\n",
      "\u001b[94mWB_LGAF__WB_LGAF2016_8_1_3: \u001b[0mAgreements through informal dispute resolution encouraged has 751 NA \u001b[91m0.9677835051546392\n",
      "\u001b[94mWB_LGAF__WB_LGAF2016_8_1_4: \u001b[0mAccessible, affordable and timely process for appeal has 751 NA \u001b[91m0.9677835051546392\n",
      "\u001b[94mWB_LGAF__WB_LGAF2016_8_2_1: \u001b[0mLand disputes are a small share of formal legal cases has 752 NA \u001b[91m0.9690721649484536\n",
      "\u001b[94mWB_LGAF__WB_LGAF2016_8_2_2: \u001b[0mConflicts in the formal system are resolved in a timely manner has 751 NA \u001b[91m0.9677835051546392\n",
      "\u001b[94mWB_LGAF__WB_LGAF2016_8_2_3: \u001b[0mThere are few long-standing land conflicts (greater than 5 years) has 753 NA \u001b[91m0.970360824742268\n",
      "\u001b[94mWB_LGAF__WB_LGAF2016_9_1_1: \u001b[0mNo conflict of interest betw. Implementation & arbitration has 753 NA \u001b[91m0.970360824742268\n",
      "\u001b[94mWB_LGAF__WB_LGAF2016_9_1_2: \u001b[0mNo horizontal overlap has 753 NA \u001b[91m0.970360824742268\n",
      "\u001b[94mWB_LGAF__WB_LGAF2016_9_1_3: \u001b[0mAdministrative (vertical) overlap is avoided has 753 NA \u001b[91m0.970360824742268\n",
      "\u001b[94mWB_LGAF__WB_LGAF2016_9_1_4: \u001b[0mLand information shared among institutions; accessible to public has 753 NA \u001b[91m0.970360824742268\n",
      "\u001b[94mWB_LGAF__WB_LGAF2016_9_1_5: \u001b[0mOverlaps of rights (based on tenure typology) are minimal has 758 NA \u001b[91m0.9768041237113402\n",
      "\u001b[94mWB_LGAF__WB_LGAF2016_9_1_6: \u001b[0mAmbiguity in institutional mandates does not cause problems has 758 NA \u001b[91m0.9768041237113402\n",
      "\u001b[94mWB_LGAF__WB_LGAF2016_9_2_1: \u001b[0mPolicy exists; developed in a participatory manner involving all has 753 NA \u001b[91m0.970360824742268\n",
      "\u001b[94mWB_LGAF__WB_LGAF2016_9_2_2: \u001b[0mMeaningful incorporation and monitoring of equity and poverty has 753 NA \u001b[91m0.970360824742268\n",
      "\u001b[94mWB_LGAF__WB_LGAF2016_9_2_3: \u001b[0mIncorporation & monitoring of environmental & sustainability goals has 758 NA \u001b[91m0.9768041237113402\n",
      "\u001b[94mWB_LGAF__WB_LGAF2016_9_2_4: \u001b[0mImplementation is costed, and adequately resourced has 753 NA \u001b[91m0.970360824742268\n",
      "\u001b[94mWB_LGAF__WB_LGAF2016_9_2_5: \u001b[0mRegular public reporting of progress in policy implementation has 753 NA \u001b[91m0.970360824742268\n",
      "\u001b[94mWB_LGAF__WB_LGAF2016_9_2_6: \u001b[0mLand policy ensures land access for smallholders & EWS has 760 NA \u001b[91m0.979381443298969\n",
      "\u001b[94mWB_LGAF__WB_LGAF2016_9_2_7: \u001b[0mLand policy effectively prevents settlements in high risk areas has 760 NA \u001b[91m0.979381443298969\n",
      "\u001b[94mWB_SE__WB_NY_GDP_MKTP_KD_ZG: \u001b[92mGDP growth (annual %) has 28 NA \u001b[91m0.03608247422680412\n",
      "\u001b[94mWB_SE__WB_NY_GDP_MKTP_PP_KD: \u001b[0mGDP, PPP (constant 2011 international $) has 48 NA \u001b[91m0.061855670103092786\n",
      "\u001b[94mLMM_PICL__LMM_PICL_1TOT: \u001b[0mPercent of Indigenous and Community Lands - Total has 702 NA \u001b[91m0.904639175257732\n",
      "\u001b[94mLMM_PICL__LMM_PICL_2FR: \u001b[0mPercent of Indigenous and Community Lands - Formally recognised has 666 NA \u001b[91m0.8582474226804123\n",
      "\u001b[94mLMM_PICL__LMM_PICL_3NFR: \u001b[0mPercent of Indigenous and Community Lands - Not formally recognised has 707 NA \u001b[91m0.9110824742268041\n",
      "\u001b[94mLMM_LSIC__LMM_LSIC_10CL: \u001b[0mX - Land Rights in protected areas - Community Lands has 659 NA \u001b[91m0.8492268041237113\n",
      "\u001b[94mLMM_LSIC__LMM_LSIC_10IP: \u001b[0mX - Land Rights in protected areas - Indigenous People has 661 NA \u001b[91m0.8518041237113402\n",
      "\u001b[94mLMM_LSIC__LMM_LSIC_11AVCL: \u001b[0mAverage score for the ten indicators of the legal security of indigenous and community lands - Community Lands has 658 NA \u001b[91m0.8479381443298969\n",
      "\u001b[94mLMM_LSIC__LMM_LSIC_11AVIP: \u001b[0mAverage score for the ten indicators of the legal security of indigenous and community lands - Indigenous People has 660 NA \u001b[91m0.8505154639175257\n",
      "\u001b[94mLMM_LSIC__LMM_LSIC_1CL: \u001b[0mI - Legal Status - Community Lands has 658 NA \u001b[91m0.8479381443298969\n",
      "\u001b[94mLMM_LSIC__LMM_LSIC_1IP: \u001b[0mI - Legal Status - Indigenous People has 660 NA \u001b[91m0.8505154639175257\n",
      "\u001b[94mLMM_LSIC__LMM_LSIC_2CL: \u001b[0mII - Land Rights and Common Property - Community Lands has 658 NA \u001b[91m0.8479381443298969\n",
      "\u001b[94mLMM_LSIC__LMM_LSIC_2IP: \u001b[0mII - Land Rights and Common Property - Indigenous People has 660 NA \u001b[91m0.8505154639175257\n",
      "\u001b[94mLMM_LSIC__LMM_LSIC_3CL: \u001b[0mIII - Formal Documentation - Community Lands has 658 NA \u001b[91m0.8479381443298969\n",
      "\u001b[94mLMM_LSIC__LMM_LSIC_3IP: \u001b[0mIII - Formal Documentation - Indigenous People has 660 NA \u001b[91m0.8505154639175257\n",
      "\u001b[94mLMM_LSIC__LMM_LSIC_4CL: \u001b[0mIV - Legal Person - Community Lands has 658 NA \u001b[91m0.8479381443298969\n",
      "\u001b[94mLMM_LSIC__LMM_LSIC_4IP: \u001b[0mIV - Legal Person - Indigenous People has 660 NA \u001b[91m0.8505154639175257\n",
      "\u001b[94mLMM_LSIC__LMM_LSIC_5CL: \u001b[0mV - Legal Authority - Community Lands has 658 NA \u001b[91m0.8479381443298969\n",
      "\u001b[94mLMM_LSIC__LMM_LSIC_5IP: \u001b[0mV - Legal Authority - Indigenous People has 660 NA \u001b[91m0.8505154639175257\n",
      "\u001b[94mLMM_LSIC__LMM_LSIC_6CL: \u001b[0mVI - Perpetuity - Community Lands has 658 NA \u001b[91m0.8479381443298969\n",
      "\u001b[94mLMM_LSIC__LMM_LSIC_6IP: \u001b[0mVI - Perpetuity - Indigenous People has 660 NA \u001b[91m0.8505154639175257\n",
      "\u001b[94mLMM_LSIC__LMM_LSIC_7CL: \u001b[0mVII - Right to consent before land Acquisition - Community Lands has 658 NA \u001b[91m0.8479381443298969\n",
      "\u001b[94mLMM_LSIC__LMM_LSIC_7IP: \u001b[0mVII - Right to consent before land Acquisition - Indigenous People has 660 NA \u001b[91m0.8505154639175257\n",
      "\u001b[94mLMM_LSIC__LMM_LSIC_8CL: \u001b[0mVIII - Rights to trees - Community Lands has 659 NA \u001b[91m0.8492268041237113\n",
      "\u001b[94mLMM_LSIC__LMM_LSIC_8IP: \u001b[0mVIII - Rights to trees - Indigenous People has 660 NA \u001b[91m0.8505154639175257\n",
      "\u001b[94mLMM_LSIC__LMM_LSIC_9CL: \u001b[0mIX - Rights to water - Community Lands has 658 NA \u001b[91m0.8479381443298969\n",
      "\u001b[94mLMM_LSIC__LMM_LSIC_9IP: \u001b[0mIX - Rights to water - Indigenous People has 660 NA \u001b[91m0.8505154639175257\n",
      "\u001b[94mWB_LG__FAO_LG_1FA: \u001b[0mAgricultural holders by sex (female - total n) has 401 NA \u001b[91m0.5167525773195877\n",
      "\u001b[94mWB_LG__FAO_LG_1FB: \u001b[0mDistribution of agricultural holders by sex (female - Share %) has 400 NA \u001b[91m0.5154639175257731\n",
      "\u001b[94mWB_LG__FAO_LG_1MA: \u001b[0mAgricultural holders by sex (male - total n) has 401 NA \u001b[91m0.5167525773195877\n",
      "\u001b[94mWB_LG__FAO_LG_1MB: \u001b[0mDistribution of agricultural holders by sex (male - Share %) has 400 NA \u001b[91m0.5154639175257731\n",
      "\u001b[94mWB_LG__FAO_LG_1T: \u001b[0mTotal number of agricultural holders has 401 NA \u001b[91m0.5167525773195877\n",
      "\u001b[94mWB_LG__FAO_LG_2F: \u001b[0mDistribution of agricultural landowners by sex (female - share %) has 699 NA \u001b[91m0.9007731958762887\n",
      "\u001b[94mWB_LG__FAO_LG_2M: \u001b[0mDistribution of agricultural landowners by sex (male - share %) has 699 NA \u001b[91m0.9007731958762887\n",
      "\u001b[94mWB_LG__FAO_LG_3FA: \u001b[0mIncidence of agricultural landowners (female only - share%) has 693 NA \u001b[91m0.8930412371134021\n",
      "\u001b[94mWB_LG__FAO_LG_3FB: \u001b[0mIncidence of agricultural landowners (female sole & joint - share%) has 663 NA \u001b[91m0.854381443298969\n",
      "\u001b[94mWB_LG__FAO_LG_3MA: \u001b[0mIncidence of agricultural landowners (male only - share%) has 712 NA \u001b[91m0.9175257731958762\n",
      "\u001b[94mWB_LG__FAO_LG_3MB: \u001b[0mIncidence of agricultural landowners (male sole & joint - share%) has 682 NA \u001b[91m0.8788659793814433\n",
      "\u001b[94mWB_LG__FAO_LG_4F: \u001b[0mDistribution of agricultural land area owned by sex (female - share%) has 704 NA \u001b[91m0.9072164948453608\n",
      "\u001b[94mWB_LG__FAO_LG_4M: \u001b[0mDistribution of agricultural land area owned by sex (male - share%) has 704 NA \u001b[91m0.9072164948453608\n",
      "\u001b[94mWB_LG__FAO_LG_5F: \u001b[0mDistribution of agricultural land value owned by sex (female - share%) has 734 NA \u001b[91m0.9458762886597938\n",
      "\u001b[94mWB_LG__FAO_LG_5M: \u001b[0mDistribution of agricultural land value owned by sex (male - share%) has 734 NA \u001b[91m0.9458762886597938\n",
      "\u001b[94mTI_CPI__TI_CPI_CPIRN: \u001b[0mCorruption Perception Index - Country Ranking (New Methodology, from 2012 onwards) has 16 NA \u001b[91m0.020618556701030927\n",
      "\u001b[94mTI_CPI__TI_CPI_CPIRO: \u001b[0mCorruption Perception Index - Country Ranking (Old Methodology, 1995-2011) has 19 NA \u001b[91m0.024484536082474227\n",
      "\u001b[94mTI_CPI__TI_CPI_CPISN: \u001b[0mCorruption Perception Index - Score (New Methodology, from 2012 onwards) has 16 NA \u001b[91m0.020618556701030927\n",
      "\u001b[94mTI_CPI__TI_CPI_CPISO: \u001b[0mCorruption Perception Index - Score (Old Methodology, 1995-2011) has 19 NA \u001b[91m0.024484536082474227\n",
      "\u001b[94mWB_ARD__AG_AGR_TRAC_NO: \u001b[0mAgricultural machinery, tractors has 55 NA \u001b[91m0.07087628865979381\n",
      "\u001b[94mWB_ARD__AG_CON_FERT_PT_ZS: \u001b[0mFertilizer consumption (% of fertilizer production) has 391 NA \u001b[91m0.5038659793814433\n",
      "\u001b[94mWB_ARD__AG_CON_FERT_ZS: \u001b[92mFertilizer consumption (kilograms per hectare of arable land) has 72 NA \u001b[91m0.09278350515463918\n",
      "\u001b[94mWB_ARD__AG_LND_AGRI_K2: \u001b[92mAgricultural land (sq. km) has 11 NA \u001b[91m0.014175257731958763\n",
      "\u001b[94mWB_ARD__AG_LND_AGRI_ZS: \u001b[0mAgricultural land (% of land area) has 17 NA \u001b[91m0.02190721649484536\n",
      "\u001b[94mWB_ARD__AG_LND_ARBL_HA: \u001b[0mArable land (hectares) has 17 NA \u001b[91m0.02190721649484536\n",
      "\u001b[94mWB_ARD__AG_LND_ARBL_HA_PC: \u001b[0mArable land (hectares per person) has 17 NA \u001b[91m0.02190721649484536\n",
      "\u001b[94mWB_ARD__AG_LND_ARBL_ZS: \u001b[92mArable land (% of land area) has 17 NA \u001b[91m0.02190721649484536\n",
      "\u001b[94mWB_ARD__AG_LND_CREL_HA: \u001b[0mLand under cereal production (hectares) has 14 NA \u001b[91m0.01804123711340206\n",
      "\u001b[94mWB_ARD__AG_LND_CROP_ZS: \u001b[0mPermanent cropland (% of land area) has 20 NA \u001b[91m0.02577319587628866\n",
      "\u001b[94mWB_ARD__AG_LND_EL5M_RU_K2: \u001b[0mRural land area where elevation is below 5 meters (sq. km) has 111 NA \u001b[91m0.14304123711340205\n",
      "\u001b[94mWB_ARD__AG_LND_EL5M_RU_ZS: \u001b[0mRural land area where elevation is below 5 meters (% of total land area) has 111 NA \u001b[91m0.14304123711340205\n",
      "\u001b[94mWB_ARD__AG_LND_FRST_K2: \u001b[92mForest area (sq. km) has 11 NA \u001b[91m0.014175257731958763\n",
      "\u001b[94mWB_ARD__AG_LND_FRST_ZS: \u001b[0mForest area (% of land area) has 17 NA \u001b[91m0.02190721649484536\n",
      "\u001b[94mWB_ARD__AG_LND_IRIG_AG_ZS: \u001b[0mAgricultural irrigated land (% of total agricultural land) has 290 NA \u001b[91m0.37371134020618557\n",
      "\u001b[94mWB_ARD__AG_LND_PRCP_MM: \u001b[92mAverage precipitation in depth (mm per year) has 13 NA \u001b[91m0.01675257731958763\n",
      "\u001b[94mWB_ARD__AG_LND_TOTL_K2: \u001b[92mLand area (sq. km) has 17 NA \u001b[91m0.02190721649484536\n",
      "\u001b[94mWB_ARD__AG_LND_TOTL_RU_K2: \u001b[92mRural land area (sq. km) has 111 NA \u001b[91m0.14304123711340205\n",
      "\u001b[94mWB_ARD__AG_LND_TRAC_ZS: \u001b[0mAgricultural machinery, tractors per 100 sq. km of arable land has 56 NA \u001b[91m0.07216494845360824\n",
      "\u001b[94mWB_ARD__AG_PRD_CREL_MT: \u001b[0mCereal production (metric tons) has 14 NA \u001b[91m0.01804123711340206\n",
      "\u001b[94mWB_ARD__AG_PRD_CROP_XD: \u001b[0mCrop production index (2004-2006 = 100) has 18 NA \u001b[91m0.023195876288659795\n",
      "\u001b[94mWB_ARD__AG_PRD_FOOD_XD: \u001b[0mFood production index (2004-2006 = 100) has 17 NA \u001b[91m0.02190721649484536\n",
      "\u001b[94mWB_ARD__AG_PRD_LVSK_XD: \u001b[0mLivestock production index (2004-2006 = 100) has 17 NA \u001b[91m0.02190721649484536\n",
      "\u001b[94mWB_ARD__AG_SRF_TOTL_K2: \u001b[92mSurface area (sq. km) has 11 NA \u001b[91m0.014175257731958763\n",
      "\u001b[94mWB_ARD__AG_YLD_CREL_KG: \u001b[0mCereal yield (kg per hectare) has 14 NA \u001b[91m0.01804123711340206\n",
      "\u001b[94mWB_ARD__EG_ELC_ACCS_RU_ZS: \u001b[92mAccess to electricity, rural (% of rural population) has 11 NA \u001b[91m0.014175257731958763\n",
      "\u001b[94mWB_ARD__EN_ATM_METH_AG_KT_CE: \u001b[92mAgricultural methane emissions (thousand metric tons of CO2 equivalent) has 11 NA \u001b[91m0.014175257731958763\n",
      "\u001b[94mWB_ARD__EN_ATM_METH_AG_ZS: \u001b[0mAgricultural methane emissions (% of total) has 17 NA \u001b[91m0.02190721649484536\n",
      "\u001b[94mWB_ARD__EN_ATM_NOXE_AG_KT_CE: \u001b[92mAgricultural nitrous oxide emissions (thousand metric tons of CO2 equivalent) has 11 NA \u001b[91m0.014175257731958763\n",
      "\u001b[94mWB_ARD__EN_ATM_NOXE_AG_ZS: \u001b[0mAgricultural nitrous oxide emissions (% of total) has 17 NA \u001b[91m0.02190721649484536\n",
      "\u001b[94mWB_ARD__EN_POP_EL5M_RU_ZS: \u001b[0mRural population living in areas where elevation is below 5 meters (% of total population) has 111 NA \u001b[91m0.14304123711340205\n",
      "\u001b[94mWB_ARD__ER_H2O_FWAG_ZS: \u001b[0mAnnual freshwater withdrawals, agriculture (% of total freshwater withdrawal) has 18 NA \u001b[91m0.023195876288659795\n",
      "\u001b[94mWB_ARD__NV_AGR_TOTL_CD: \u001b[0mAgriculture, forestry, and fishing, value added (current US$) has 19 NA \u001b[91m0.024484536082474227\n",
      "\u001b[94mWB_ARD__NV_AGR_TOTL_ZS: \u001b[92mAgriculture, forestry, and fishing, value added (% of GDP) has 18 NA \u001b[91m0.023195876288659795\n",
      "\u001b[94mWB_ARD__SI_POV_RUGP: \u001b[0mRural poverty gap at national poverty lines (%) has 354 NA \u001b[91m0.45618556701030927\n",
      "\u001b[94mWB_ARD__SI_POV_RUHC: \u001b[0mRural poverty headcount ratio at national poverty lines (% of rural population) has 261 NA \u001b[91m0.33634020618556704\n",
      "\u001b[94mWB_ARD__SL_AGR_EMPL_FE_ZS: \u001b[0mEmployment in agriculture, female (% of female employment) (modeled ILO estimate) has 12 NA \u001b[91m0.015463917525773196\n",
      "\u001b[94mWB_ARD__SL_AGR_EMPL_MA_ZS: \u001b[0mEmployment in agriculture, male (% of male employment) (modeled ILO estimate) has 12 NA \u001b[91m0.015463917525773196\n",
      "\u001b[94mWB_ARD__SL_AGR_EMPL_ZS: \u001b[92mEmployment in agriculture (% of total employment) (modeled ILO estimate) has 12 NA \u001b[91m0.015463917525773196\n",
      "\u001b[94mWB_ARD__SP_RUR_TOTL: \u001b[92mRural population has 11 NA \u001b[91m0.014175257731958763\n",
      "\u001b[94mWB_ARD__SP_RUR_TOTL_ZG: \u001b[0mRural population growth (annual %) has 11 NA \u001b[91m0.014175257731958763\n",
      "\u001b[94mWB_ARD__SP_RUR_TOTL_ZS: \u001b[0mRural population (% of total population) has 11 NA \u001b[91m0.014175257731958763\n",
      "\u001b[94mWB_ARD__TM_VAL_AGRI_ZS_UN: \u001b[92mAgricultural raw materials imports (% of merchandise imports) has 19 NA \u001b[91m0.024484536082474227\n",
      "\u001b[94mWB_ARD__TX_VAL_AGRI_ZS_UN: \u001b[92mAgricultural raw materials exports (% of merchandise exports) has 19 NA \u001b[91m0.024484536082474227\n",
      "\u001b[94mWB_SPL__SL_AGR_0714_FE_ZS: \u001b[0mChild employment in agriculture, female (% of female economically active children ages 7-14) has 292 NA \u001b[91m0.37628865979381443\n",
      "\u001b[94mWB_SPL__SL_AGR_0714_MA_ZS: \u001b[0mChild employment in agriculture, male (% of male economically active children ages 7-14) has 292 NA \u001b[91m0.37628865979381443\n",
      "\u001b[94mWB_SPL__SL_AGR_0714_ZS: \u001b[0mChild employment in agriculture (% of economically active children ages 7-14) has 292 NA \u001b[91m0.37628865979381443\n",
      "\u001b[94mWB_SPL__SL_AGR_EMPL_FE_ZS: \u001b[0mEmployment in agriculture, female (% of female employment) (modeled ILO estimate) has 12 NA \u001b[91m0.015463917525773196\n",
      "\u001b[94mWB_SPL__SL_AGR_EMPL_MA_ZS: \u001b[0mEmployment in agriculture, male (% of male employment) (modeled ILO estimate) has 12 NA \u001b[91m0.015463917525773196\n",
      "\u001b[94mWB_SPL__SL_AGR_EMPL_ZS: \u001b[0mEmployment in agriculture (% of total employment) (modeled ILO estimate) has 12 NA \u001b[91m0.015463917525773196\n",
      "\u001b[94mWB_SPL__SL_EMP_1524_SP_FE_NE_ZS: \u001b[0mEmployment to population ratio, ages 15-24, female (%) (national estimate) has 61 NA \u001b[91m0.07860824742268041\n",
      "\u001b[94mWB_SPL__SL_EMP_1524_SP_FE_ZS: \u001b[0mEmployment to population ratio, ages 15-24, female (%) (modeled ILO estimate) has 12 NA \u001b[91m0.015463917525773196\n",
      "\u001b[94mWB_SPL__SL_EMP_1524_SP_MA_NE_ZS: \u001b[0mEmployment to population ratio, ages 15-24, male (%) (national estimate) has 61 NA \u001b[91m0.07860824742268041\n",
      "\u001b[94mWB_SPL__SL_EMP_1524_SP_MA_ZS: \u001b[0mEmployment to population ratio, ages 15-24, male (%) (modeled ILO estimate) has 12 NA \u001b[91m0.015463917525773196\n",
      "\u001b[94mWB_SPL__SL_EMP_1524_SP_NE_ZS: \u001b[0mEmployment to population ratio, ages 15-24, total (%) (national estimate) has 46 NA \u001b[91m0.059278350515463915\n",
      "\u001b[94mWB_SPL__SL_EMP_1524_SP_ZS: \u001b[0mEmployment to population ratio, ages 15-24, total (%) (modeled ILO estimate) has 12 NA \u001b[91m0.015463917525773196\n",
      "\u001b[94mWB_SPL__SL_EMP_MPYR_FE_ZS: \u001b[0mEmployers, female (% of female employment) (modeled ILO estimate) has 12 NA \u001b[91m0.015463917525773196\n",
      "\u001b[94mWB_SPL__SL_EMP_MPYR_MA_ZS: \u001b[0mEmployers, male (% of male employment) (modeled ILO estimate) has 12 NA \u001b[91m0.015463917525773196\n",
      "\u001b[94mWB_SPL__SL_EMP_MPYR_ZS: \u001b[0mEmployers, total (% of total employment) (modeled ILO estimate) has 12 NA \u001b[91m0.015463917525773196\n",
      "\u001b[94mWB_SPL__SL_EMP_SELF_FE_ZS: \u001b[0mSelf-employed, female (% of female employment) (modeled ILO estimate) has 12 NA \u001b[91m0.015463917525773196\n",
      "\u001b[94mWB_SPL__SL_EMP_SELF_MA_ZS: \u001b[0mSelf-employed, male (% of male employment) (modeled ILO estimate) has 12 NA \u001b[91m0.015463917525773196\n",
      "\u001b[94mWB_SPL__SL_EMP_SELF_ZS: \u001b[0mSelf-employed, total (% of total employment) (modeled ILO estimate) has 12 NA \u001b[91m0.015463917525773196\n",
      "\u001b[94mWB_SPL__SL_EMP_SMGT_FE_ZS: \u001b[0mFemale share of employment in senior and middle management (%) has 463 NA \u001b[91m0.5966494845360825\n",
      "\u001b[94mWB_SPL__SL_EMP_TOTL_SP_FE_NE_ZS: \u001b[0mEmployment to population ratio, 15+, female (%) (national estimate) has 29 NA \u001b[91m0.037371134020618556\n",
      "\u001b[94mWB_SPL__SL_EMP_TOTL_SP_FE_ZS: \u001b[0mEmployment to population ratio, 15+, female (%) (modeled ILO estimate) has 12 NA \u001b[91m0.015463917525773196\n",
      "\u001b[94mWB_SPL__SL_EMP_TOTL_SP_MA_NE_ZS: \u001b[0mEmployment to population ratio, 15+, male (%) (national estimate) has 29 NA \u001b[91m0.037371134020618556\n",
      "\u001b[94mWB_SPL__SL_EMP_TOTL_SP_MA_ZS: \u001b[0mEmployment to population ratio, 15+, male (%) (modeled ILO estimate) has 12 NA \u001b[91m0.015463917525773196\n",
      "\u001b[94mWB_SPL__SL_EMP_TOTL_SP_NE_ZS: \u001b[0mEmployment to population ratio, 15+, total (%) (national estimate) has 21 NA \u001b[91m0.027061855670103094\n",
      "\u001b[94mWB_SPL__SL_EMP_TOTL_SP_ZS: \u001b[0mEmployment to population ratio, 15+, total (%) (modeled ILO estimate) has 12 NA \u001b[91m0.015463917525773196\n",
      "\u001b[94mWB_SPL__SL_EMP_VULN_FE_ZS: \u001b[0mVulnerable employment, female (% of female employment) (modeled ILO estimate) has 12 NA \u001b[91m0.015463917525773196\n",
      "\u001b[94mWB_SPL__SL_EMP_VULN_MA_ZS: \u001b[0mVulnerable employment, male (% of male employment) (modeled ILO estimate) has 12 NA \u001b[91m0.015463917525773196\n",
      "\u001b[94mWB_SPL__SL_EMP_VULN_ZS: \u001b[0mVulnerable employment, total (% of total employment) (modeled ILO estimate) has 12 NA \u001b[91m0.015463917525773196\n",
      "\u001b[94mWB_SPL__SL_EMP_WORK_FE_ZS: \u001b[0mWage and salaried workers, female (% of female employment) (modeled ILO estimate) has 12 NA \u001b[91m0.015463917525773196\n",
      "\u001b[94mWB_SPL__SL_EMP_WORK_MA_ZS: \u001b[0mWage and salaried workers, male (% of male employment) (modeled ILO estimate) has 12 NA \u001b[91m0.015463917525773196\n",
      "\u001b[94mWB_SPL__SL_EMP_WORK_ZS: \u001b[0mWage and salaried workers, total (% of total employment) (modeled ILO estimate) has 12 NA \u001b[91m0.015463917525773196\n",
      "\u001b[94mWB_SPL__SL_FAM_0714_FE_ZS: \u001b[0mChildren in employment, unpaid family workers, female (% of female children in employment, ages 7-14) has 166 NA \u001b[91m0.21391752577319587\n",
      "\u001b[94mWB_SPL__SL_FAM_0714_MA_ZS: \u001b[0mChildren in employment, unpaid family workers, male (% of male children in employment, ages 7-14) has 166 NA \u001b[91m0.21391752577319587\n",
      "\u001b[94mWB_SPL__SL_FAM_0714_ZS: \u001b[0mChildren in employment, unpaid family workers (% of children in employment, ages 7-14) has 166 NA \u001b[91m0.21391752577319587\n",
      "\u001b[94mWB_SPL__SL_FAM_WORK_FE_ZS: \u001b[0mContributing family workers, female (% of female employment) (modeled ILO estimate) has 12 NA \u001b[91m0.015463917525773196\n",
      "\u001b[94mWB_SPL__SL_FAM_WORK_MA_ZS: \u001b[0mContributing family workers, male (% of male employment) (modeled ILO estimate) has 12 NA \u001b[91m0.015463917525773196\n",
      "\u001b[94mWB_SPL__SL_FAM_WORK_ZS: \u001b[0mContributing family workers, total (% of total employment) (modeled ILO estimate) has 12 NA \u001b[91m0.015463917525773196\n",
      "\u001b[94mWB_SPL__SL_GDP_PCAP_EM_KD: \u001b[0mGDP per person employed (constant 2011 PPP $) has 17 NA \u001b[91m0.02190721649484536\n",
      "\u001b[94mWB_SPL__SL_IND_EMPL_FE_ZS: \u001b[0mEmployment in industry, female (% of female employment) (modeled ILO estimate) has 12 NA \u001b[91m0.015463917525773196\n",
      "\u001b[94mWB_SPL__SL_IND_EMPL_MA_ZS: \u001b[0mEmployment in industry, male (% of male employment) (modeled ILO estimate) has 12 NA \u001b[91m0.015463917525773196\n",
      "\u001b[94mWB_SPL__SL_IND_EMPL_ZS: \u001b[0mEmployment in industry (% of total employment) (modeled ILO estimate) has 12 NA \u001b[91m0.015463917525773196\n",
      "\u001b[94mWB_SPL__SL_ISV_IFRM_FE_ZS: \u001b[0mInformal employment, female (% of total non-agricultural employment) has 368 NA \u001b[91m0.4742268041237113\n",
      "\u001b[94mWB_SPL__SL_ISV_IFRM_MA_ZS: \u001b[0mInformal employment, male (% of total non-agricultural employment) has 368 NA \u001b[91m0.4742268041237113\n",
      "\u001b[94mWB_SPL__SL_ISV_IFRM_ZS: \u001b[0mInformal employment (% of total non-agricultural employment) has 368 NA \u001b[91m0.4742268041237113\n",
      "\u001b[94mWB_SPL__SL_MNF_0714_FE_ZS: \u001b[0mChild employment in manufacturing, female (% of female economically active children ages 7-14) has 297 NA \u001b[91m0.38273195876288657\n",
      "\u001b[94mWB_SPL__SL_MNF_0714_MA_ZS: \u001b[0mChild employment in manufacturing, male (% of male economically active children ages 7-14) has 297 NA \u001b[91m0.38273195876288657\n",
      "\u001b[94mWB_SPL__SL_MNF_0714_ZS: \u001b[0mChild employment in manufacturing (% of economically active children ages 7-14) has 292 NA \u001b[91m0.37628865979381443\n",
      "\u001b[94mWB_SPL__SL_SLF_0714_FE_ZS: \u001b[0mChildren in employment, self-employed, female (% of female children in employment, ages 7-14) has 344 NA \u001b[91m0.44329896907216493\n",
      "\u001b[94mWB_SPL__SL_SLF_0714_MA_ZS: \u001b[0mChildren in employment, self-employed, male (% of male children in employment, ages 7-14) has 344 NA \u001b[91m0.44329896907216493\n",
      "\u001b[94mWB_SPL__SL_SLF_0714_ZS: \u001b[0mChildren in employment, self-employed (% of children in employment, ages 7-14) has 344 NA \u001b[91m0.44329896907216493\n",
      "\u001b[94mWB_SPL__SL_SRV_0714_FE_ZS: \u001b[0mChild employment in services, female (% of female economically active children ages 7-14) has 292 NA \u001b[91m0.37628865979381443\n",
      "\u001b[94mWB_SPL__SL_SRV_0714_MA_ZS: \u001b[0mChild employment in services, male (% of male economically active children ages 7-14) has 292 NA \u001b[91m0.37628865979381443\n",
      "\u001b[94mWB_SPL__SL_SRV_0714_ZS: \u001b[0mChild employment in services (% of economically active children ages 7-14) has 292 NA \u001b[91m0.37628865979381443\n",
      "\u001b[94mWB_SPL__SL_SRV_EMPL_FE_ZS: \u001b[0mEmployment in services, female (% of female employment) (modeled ILO estimate) has 12 NA \u001b[91m0.015463917525773196\n",
      "\u001b[94mWB_SPL__SL_SRV_EMPL_MA_ZS: \u001b[0mEmployment in services, male (% of male employment) (modeled ILO estimate) has 12 NA \u001b[91m0.015463917525773196\n",
      "\u001b[94mWB_SPL__SL_SRV_EMPL_ZS: \u001b[0mEmployment in services (% of total employment) (modeled ILO estimate) has 12 NA \u001b[91m0.015463917525773196\n",
      "\u001b[94mWB_SPL__SL_TLF_0714_FE_ZS: \u001b[0mChildren in employment, female (% of female children ages 7-14) has 137 NA \u001b[91m0.17654639175257733\n",
      "\u001b[94mWB_SPL__SL_TLF_0714_MA_ZS: \u001b[0mChildren in employment, male (% of male children ages 7-14) has 137 NA \u001b[91m0.17654639175257733\n",
      "\u001b[94mWB_SPL__SL_TLF_0714_SW_FE_TM: \u001b[0mAverage working hours of children, study and work, female, ages 7-14 (hours per week) has 196 NA \u001b[91m0.25257731958762886\n",
      "\u001b[94mWB_SPL__SL_TLF_0714_SW_FE_ZS: \u001b[0mChildren in employment, study and work, female (% of female children in employment, ages 7-14) has 134 NA \u001b[91m0.17268041237113402\n",
      "\u001b[94mWB_SPL__SL_TLF_0714_SW_MA_TM: \u001b[0mAverage working hours of children, study and work, male, ages 7-14 (hours per week) has 196 NA \u001b[91m0.25257731958762886\n",
      "\u001b[94mWB_SPL__SL_TLF_0714_SW_MA_ZS: \u001b[0mChildren in employment, study and work, male (% of male children in employment, ages 7-14) has 134 NA \u001b[91m0.17268041237113402\n",
      "\u001b[94mWB_SPL__SL_TLF_0714_SW_TM: \u001b[0mAverage working hours of children, study and work, ages 7-14 (hours per week) has 196 NA \u001b[91m0.25257731958762886\n",
      "\u001b[94mWB_SPL__SL_TLF_0714_SW_ZS: \u001b[0mChildren in employment, study and work (% of children in employment, ages 7-14) has 137 NA \u001b[91m0.17654639175257733\n",
      "\u001b[94mWB_SPL__SL_TLF_0714_WK_FE_TM: \u001b[0mAverage working hours of children, working only, female, ages 7-14 (hours per week) has 210 NA \u001b[91m0.2706185567010309\n",
      "\u001b[94mWB_SPL__SL_TLF_0714_WK_FE_ZS: \u001b[0mChildren in employment, work only, female (% of female children in employment, ages 7-14) has 134 NA \u001b[91m0.17268041237113402\n",
      "\u001b[94mWB_SPL__SL_TLF_0714_WK_MA_TM: \u001b[0mAverage working hours of children, working only, male, ages 7-14 (hours per week) has 199 NA \u001b[91m0.25644329896907214\n",
      "\u001b[94mWB_SPL__SL_TLF_0714_WK_MA_ZS: \u001b[0mChildren in employment, work only, male (% of male children in employment, ages 7-14) has 134 NA \u001b[91m0.17268041237113402\n",
      "\u001b[94mWB_SPL__SL_TLF_0714_WK_TM: \u001b[0mAverage working hours of children, working only, ages 7-14 (hours per week) has 199 NA \u001b[91m0.25644329896907214\n",
      "\u001b[94mWB_SPL__SL_TLF_0714_WK_ZS: \u001b[0mChildren in employment, work only (% of children in employment, ages 7-14) has 137 NA \u001b[91m0.17654639175257733\n",
      "\u001b[94mWB_SPL__SL_TLF_0714_ZS: \u001b[0mChildren in employment, total (% of children ages 7-14) has 137 NA \u001b[91m0.17654639175257733\n",
      "\u001b[94mWB_SPL__SL_TLF_ACTI_1524_FE_NE_ZS: \u001b[0mLabor force participation rate for ages 15-24, female (%) (national estimate) has 18 NA \u001b[91m0.023195876288659795\n",
      "\u001b[94mWB_SPL__SL_TLF_ACTI_1524_FE_ZS: \u001b[0mLabor force participation rate for ages 15-24, female (%) (modeled ILO estimate) has 12 NA \u001b[91m0.015463917525773196\n",
      "\u001b[94mWB_SPL__SL_TLF_ACTI_1524_MA_NE_ZS: \u001b[0mLabor force participation rate for ages 15-24, male (%) (national estimate) has 18 NA \u001b[91m0.023195876288659795\n",
      "\u001b[94mWB_SPL__SL_TLF_ACTI_1524_MA_ZS: \u001b[0mLabor force participation rate for ages 15-24, male (%) (modeled ILO estimate) has 12 NA \u001b[91m0.015463917525773196\n",
      "\u001b[94mWB_SPL__SL_TLF_ACTI_1524_NE_ZS: \u001b[0mLabor force participation rate for ages 15-24, total (%) (national estimate) has 18 NA \u001b[91m0.023195876288659795\n",
      "\u001b[94mWB_SPL__SL_TLF_ACTI_1524_ZS: \u001b[0mLabor force participation rate for ages 15-24, total (%) (modeled ILO estimate) has 12 NA \u001b[91m0.015463917525773196\n",
      "\u001b[94mWB_SPL__SL_TLF_ACTI_FE_ZS: \u001b[0mLabor force participation rate, female (% of female population ages 15-64) (modeled ILO estimate) has 12 NA \u001b[91m0.015463917525773196\n",
      "\u001b[94mWB_SPL__SL_TLF_ACTI_MA_ZS: \u001b[0mLabor force participation rate, male (% of male population ages 15-64) (modeled ILO estimate) has 12 NA \u001b[91m0.015463917525773196\n",
      "\u001b[94mWB_SPL__SL_TLF_ACTI_ZS: \u001b[0mLabor force participation rate, total (% of total population ages 15-64) (modeled ILO estimate) has 12 NA \u001b[91m0.015463917525773196\n",
      "\u001b[94mWB_SPL__SL_TLF_ADVN_FE_ZS: \u001b[0mLabor force with advanced education, female (% of female working-age population with advanced education) has 123 NA \u001b[91m0.15850515463917525\n",
      "\u001b[94mWB_SPL__SL_TLF_ADVN_MA_ZS: \u001b[0mLabor force with advanced education, male (% of male working-age population with advanced education) has 123 NA \u001b[91m0.15850515463917525\n",
      "\u001b[94mWB_SPL__SL_TLF_ADVN_ZS: \u001b[0mLabor force with advanced education (% of total working-age population with advanced education) has 123 NA \u001b[91m0.15850515463917525\n",
      "\u001b[94mWB_SPL__SL_TLF_BASC_FE_ZS: \u001b[0mLabor force with basic education, female (% of female working-age population with basic education) has 120 NA \u001b[91m0.15463917525773196\n",
      "\u001b[94mWB_SPL__SL_TLF_BASC_MA_ZS: \u001b[0mLabor force with basic education, male (% of male working-age population with basic education) has 120 NA \u001b[91m0.15463917525773196\n",
      "\u001b[94mWB_SPL__SL_TLF_BASC_ZS: \u001b[0mLabor force with basic education (% of total working-age population with basic education) has 120 NA \u001b[91m0.15463917525773196\n",
      "\u001b[94mWB_SPL__SL_TLF_CACT_FE_NE_ZS: \u001b[0mLabor force participation rate, female (% of female population ages 15+) (national estimate) has 14 NA \u001b[91m0.01804123711340206\n",
      "\u001b[94mWB_SPL__SL_TLF_CACT_FE_ZS: \u001b[0mLabor force participation rate, female (% of female population ages 15+) (modeled ILO estimate) has 12 NA \u001b[91m0.015463917525773196\n",
      "\u001b[94mWB_SPL__SL_TLF_CACT_FM_NE_ZS: \u001b[0mRatio of female to male labor force participation rate (%) (national estimate) has 14 NA \u001b[91m0.01804123711340206\n",
      "\u001b[94mWB_SPL__SL_TLF_CACT_FM_ZS: \u001b[0mRatio of female to male labor force participation rate (%) (modeled ILO estimate) has 12 NA \u001b[91m0.015463917525773196\n",
      "\u001b[94mWB_SPL__SL_TLF_CACT_MA_NE_ZS: \u001b[0mLabor force participation rate, male (% of male population ages 15+) (national estimate) has 14 NA \u001b[91m0.01804123711340206\n",
      "\u001b[94mWB_SPL__SL_TLF_CACT_MA_ZS: \u001b[0mLabor force participation rate, male (% of male population ages 15+) (modeled ILO estimate) has 12 NA \u001b[91m0.015463917525773196\n",
      "\u001b[94mWB_SPL__SL_TLF_CACT_NE_ZS: \u001b[0mLabor force participation rate, total (% of total population ages 15+) (national estimate) has 13 NA \u001b[91m0.01675257731958763\n",
      "\u001b[94mWB_SPL__SL_TLF_CACT_ZS: \u001b[0mLabor force participation rate, total (% of total population ages 15+) (modeled ILO estimate) has 12 NA \u001b[91m0.015463917525773196\n",
      "\u001b[94mWB_SPL__SL_TLF_INTM_FE_ZS: \u001b[0mLabor force with intermediate education, female (% of female working-age population with intermediate education) has 118 NA \u001b[91m0.15206185567010308\n",
      "\u001b[94mWB_SPL__SL_TLF_INTM_MA_ZS: \u001b[0mLabor force with intermediate education, male (% of male working-age population with intermediate education) has 118 NA \u001b[91m0.15206185567010308\n",
      "\u001b[94mWB_SPL__SL_TLF_INTM_ZS: \u001b[0mLabor force with intermediate education (% of total working-age population with intermediate education) has 118 NA \u001b[91m0.15206185567010308\n",
      "\u001b[94mWB_SPL__SL_TLF_PART_FE_ZS: \u001b[0mPart time employment, female (% of total female employment) has 173 NA \u001b[91m0.22293814432989692\n",
      "\u001b[94mWB_SPL__SL_TLF_PART_MA_ZS: \u001b[0mPart time employment, male (% of total male employment) has 173 NA \u001b[91m0.22293814432989692\n",
      "\u001b[94mWB_SPL__SL_TLF_PART_ZS: \u001b[0mPart time employment, total (% of total employment) has 173 NA \u001b[91m0.22293814432989692\n",
      "\u001b[94mWB_SPL__SL_TLF_TOTL_FE_ZS: \u001b[0mLabor force, female (% of total labor force) has 12 NA \u001b[91m0.015463917525773196\n",
      "\u001b[94mWB_SPL__SL_TLF_TOTL_IN: \u001b[0mLabor force, total has 12 NA \u001b[91m0.015463917525773196\n",
      "\u001b[94mWB_SPL__SL_UEM_1524_FE_NE_ZS: \u001b[0mUnemployment, youth female (% of female labor force ages 15-24) (national estimate) has 48 NA \u001b[91m0.061855670103092786\n",
      "\u001b[94mWB_SPL__SL_UEM_1524_FE_ZS: \u001b[0mUnemployment, youth female (% of female labor force ages 15-24) (modeled ILO estimate) has 12 NA \u001b[91m0.015463917525773196\n",
      "\u001b[94mWB_SPL__SL_UEM_1524_MA_NE_ZS: \u001b[0mUnemployment, youth male (% of male labor force ages 15-24) (national estimate) has 48 NA \u001b[91m0.061855670103092786\n",
      "\u001b[94mWB_SPL__SL_UEM_1524_MA_ZS: \u001b[0mUnemployment, youth male (% of male labor force ages 15-24) (modeled ILO estimate) has 12 NA \u001b[91m0.015463917525773196\n",
      "\u001b[94mWB_SPL__SL_UEM_1524_NE_ZS: \u001b[0mUnemployment, youth total (% of total labor force ages 15-24) (national estimate) has 48 NA \u001b[91m0.061855670103092786\n",
      "\u001b[94mWB_SPL__SL_UEM_1524_ZS: \u001b[0mUnemployment, youth total (% of total labor force ages 15-24) (modeled ILO estimate) has 12 NA \u001b[91m0.015463917525773196\n",
      "\u001b[94mWB_SPL__SL_UEM_ADVN_FE_ZS: \u001b[0mUnemployment with advanced education, female (% of female labor force with advanced education) has 108 NA \u001b[91m0.13917525773195877\n",
      "\u001b[94mWB_SPL__SL_UEM_ADVN_MA_ZS: \u001b[0mUnemployment with advanced education, male (% of male labor force with advanced education) has 108 NA \u001b[91m0.13917525773195877\n",
      "\u001b[94mWB_SPL__SL_UEM_ADVN_ZS: \u001b[0mUnemployment with advanced education (% of total labor force with advanced education) has 112 NA \u001b[91m0.14432989690721648\n",
      "\u001b[94mWB_SPL__SL_UEM_BASC_FE_ZS: \u001b[0mUnemployment with basic education, female (% of female labor force with basic education) has 108 NA \u001b[91m0.13917525773195877\n",
      "\u001b[94mWB_SPL__SL_UEM_BASC_MA_ZS: \u001b[0mUnemployment with basic education, male (% of male labor force with basic education) has 108 NA \u001b[91m0.13917525773195877\n",
      "\u001b[94mWB_SPL__SL_UEM_BASC_ZS: \u001b[0mUnemployment with basic education (% of total labor force with basic education) has 108 NA \u001b[91m0.13917525773195877\n",
      "\u001b[94mWB_SPL__SL_UEM_INTM_FE_ZS: \u001b[0mUnemployment with intermediate education, female (% of female labor force with intermediate education) has 111 NA \u001b[91m0.14304123711340205\n",
      "\u001b[94mWB_SPL__SL_UEM_INTM_MA_ZS: \u001b[0mUnemployment with intermediate education, male (% of male labor force with intermediate education) has 108 NA \u001b[91m0.13917525773195877\n",
      "\u001b[94mWB_SPL__SL_UEM_INTM_ZS: \u001b[0mUnemployment with intermediate education (% of total labor force with intermediate education) has 112 NA \u001b[91m0.14432989690721648\n",
      "\u001b[94mWB_SPL__SL_UEM_NEET_FE_ZS: \u001b[0mShare of youth not in education, employment or training, female (% of female youth population) has 117 NA \u001b[91m0.15077319587628865\n",
      "\u001b[94mWB_SPL__SL_UEM_NEET_MA_ZS: \u001b[0mShare of youth not in education, employment or training, male (% of male youth population) has 117 NA \u001b[91m0.15077319587628865\n",
      "\u001b[94mWB_SPL__SL_UEM_NEET_ZS: \u001b[0mShare of youth not in education, employment or training, total (% of youth population) has 115 NA \u001b[91m0.1481958762886598\n",
      "\u001b[94mWB_SPL__SL_UEM_TOTL_FE_NE_ZS: \u001b[0mUnemployment, female (% of female labor force) (national estimate) has 27 NA \u001b[91m0.03479381443298969\n",
      "\u001b[94mWB_SPL__SL_UEM_TOTL_FE_ZS: \u001b[0mUnemployment, female (% of female labor force) (modeled ILO estimate) has 12 NA \u001b[91m0.015463917525773196\n",
      "\u001b[94mWB_SPL__SL_UEM_TOTL_MA_NE_ZS: \u001b[0mUnemployment, male (% of male labor force) (national estimate) has 27 NA \u001b[91m0.03479381443298969\n",
      "\u001b[94mWB_SPL__SL_UEM_TOTL_MA_ZS: \u001b[0mUnemployment, male (% of male labor force) (modeled ILO estimate) has 12 NA \u001b[91m0.015463917525773196\n",
      "\u001b[94mWB_SPL__SL_UEM_TOTL_NE_ZS: \u001b[0mUnemployment, total (% of total labor force) (national estimate) has 20 NA \u001b[91m0.02577319587628866\n",
      "\u001b[94mWB_SPL__SL_UEM_TOTL_ZS: \u001b[0mUnemployment, total (% of total labor force) (modeled ILO estimate) has 12 NA \u001b[91m0.015463917525773196\n",
      "\u001b[94mWB_SPL__SL_WAG_0714_FE_ZS: \u001b[0mChildren in employment, wage workers, female (% of female children in employment, ages 7-14) has 183 NA \u001b[91m0.23582474226804123\n",
      "\u001b[94mWB_SPL__SL_WAG_0714_MA_ZS: \u001b[0mChildren in employment, wage workers, male (% of male children in employment, ages 7-14) has 183 NA \u001b[91m0.23582474226804123\n",
      "\u001b[94mWB_SPL__SL_WAG_0714_ZS: \u001b[0mChildren in employment, wage workers (% of children in employment, ages 7-14) has 183 NA \u001b[91m0.23582474226804123\n",
      "\u001b[94mWB_SPL__per_allsp_adq_pop_tot: \u001b[0mAdequacy of social protection and labor programs (% of total welfare of beneficiary households) has 175 NA \u001b[91m0.22551546391752578\n",
      "\u001b[94mWB_SPL__per_allsp_ben_q1_tot: \u001b[0mBenefit incidence of social protection and labor programs to poorest quintile (% of total SPL benefits) has 168 NA \u001b[91m0.21649484536082475\n",
      "\u001b[94mWB_SPL__per_allsp_cov_pop_tot: \u001b[0mCoverage of social protection and labor programs (% of population) has 88 NA \u001b[91m0.1134020618556701\n",
      "\u001b[94mWB_SPL__per_lm_alllm_adq_pop_tot: \u001b[0mAdequacy of unemployment benefits and ALMP (% of total welfare of beneficiary households) has 631 NA \u001b[91m0.8131443298969072\n",
      "\u001b[94mWB_SPL__per_lm_alllm_ben_q1_tot: \u001b[0mBenefit incidence of unemployment benefits and ALMP to poorest quintile (% of total U/ALMP benefits) has 631 NA \u001b[91m0.8131443298969072\n",
      "\u001b[94mWB_SPL__per_lm_alllm_cov_pop_tot: \u001b[0mCoverage of unemployment benefits and ALMP (% of population) has 414 NA \u001b[91m0.5335051546391752\n",
      "\u001b[94mWB_SPL__per_lm_alllm_cov_q1_tot: \u001b[0mCoverage of unemployment benefits and ALMP in poorest quintile (% of population) has 414 NA \u001b[91m0.5335051546391752\n",
      "\u001b[94mWB_SPL__per_lm_alllm_cov_q2_tot: \u001b[0mCoverage of unemployment benefits and ALMP in 2nd quintile (% of population) has 414 NA \u001b[91m0.5335051546391752\n",
      "\u001b[94mWB_SPL__per_lm_alllm_cov_q3_tot: \u001b[0mCoverage of unemployment benefits and ALMP in 3rd quintile (% of population) has 414 NA \u001b[91m0.5335051546391752\n",
      "\u001b[94mWB_SPL__per_lm_alllm_cov_q4_tot: \u001b[0mCoverage of unemployment benefits and ALMP in 4th quintile (% of population) has 414 NA \u001b[91m0.5335051546391752\n",
      "\u001b[94mWB_SPL__per_lm_alllm_cov_q5_tot: \u001b[0mCoverage of unemployment benefits and ALMP in richest quintile (% of population) has 414 NA \u001b[91m0.5335051546391752\n",
      "\u001b[94mWB_SPL__per_sa_allsa_adq_pop_tot: \u001b[0mAdequacy of social safety net programs (% of total welfare of beneficiary households) has 249 NA \u001b[91m0.32087628865979384\n",
      "\u001b[94mWB_SPL__per_sa_allsa_ben_q1_tot: \u001b[0mBenefit incidence of social safety net programs to poorest quintile (% of total safety net benefits) has 242 NA \u001b[91m0.3118556701030928\n",
      "\u001b[94mWB_SPL__per_sa_allsa_cov_pop_tot: \u001b[0mCoverage of social safety net programs (% of population) has 150 NA \u001b[91m0.19329896907216496\n",
      "\u001b[94mWB_SPL__per_sa_allsa_cov_q1_tot: \u001b[0mCoverage of social safety net programs in poorest quintile (% of population) has 150 NA \u001b[91m0.19329896907216496\n",
      "\u001b[94mWB_SPL__per_sa_allsa_cov_q2_tot: \u001b[0mCoverage of social safety net programs in 2nd quintile (% of population) has 150 NA \u001b[91m0.19329896907216496\n",
      "\u001b[94mWB_SPL__per_sa_allsa_cov_q3_tot: \u001b[0mCoverage of social safety net programs in 3rd quintile (% of population) has 150 NA \u001b[91m0.19329896907216496\n",
      "\u001b[94mWB_SPL__per_sa_allsa_cov_q4_tot: \u001b[0mCoverage of social safety net programs in 4th quintile (% of population) has 150 NA \u001b[91m0.19329896907216496\n",
      "\u001b[94mWB_SPL__per_sa_allsa_cov_q5_tot: \u001b[0mCoverage of social safety net programs in richest quintile (% of population) has 150 NA \u001b[91m0.19329896907216496\n",
      "\u001b[94mWB_SPL__per_si_allsi_adq_pop_tot: \u001b[0mAdequacy of social insurance programs (% of total welfare of beneficiary households) has 212 NA \u001b[91m0.27319587628865977\n",
      "\u001b[94mWB_SPL__per_si_allsi_ben_q1_tot: \u001b[0mBenefit incidence of social insurance programs to poorest quintile (% of total social insurance benefits) has 205 NA \u001b[91m0.26417525773195877\n",
      "\u001b[94mWB_SPL__per_si_allsi_cov_pop_tot: \u001b[0mCoverage of social insurance programs (% of population) has 183 NA \u001b[91m0.23582474226804123\n",
      "\u001b[94mWB_SPL__per_si_allsi_cov_q1_tot: \u001b[0mCoverage of social insurance programs in poorest quintile (% of population) has 183 NA \u001b[91m0.23582474226804123\n",
      "\u001b[94mWB_SPL__per_si_allsi_cov_q2_tot: \u001b[0mCoverage of social insurance programs in 2nd quintile (% of population) has 183 NA \u001b[91m0.23582474226804123\n",
      "\u001b[94mWB_SPL__per_si_allsi_cov_q3_tot: \u001b[0mCoverage of social insurance programs in 3rd quintile (% of population) has 183 NA \u001b[91m0.23582474226804123\n",
      "\u001b[94mWB_SPL__per_si_allsi_cov_q4_tot: \u001b[0mCoverage of social insurance programs in 4th quintile (% of population) has 183 NA \u001b[91m0.23582474226804123\n",
      "\u001b[94mWB_SPL__per_si_allsi_cov_q5_tot: \u001b[0mCoverage of social insurance programs in richest quintile (% of population) has 183 NA \u001b[91m0.23582474226804123\n",
      "\u001b[94mWB_SD__SE_ADT_1524_LT_FM_ZS: \u001b[0mLiteracy rate, youth (ages 15-24), gender parity index (GPI) has 39 NA \u001b[91m0.05025773195876289\n",
      "\u001b[94mWB_SD__SE_ENR_PRIM_FM_ZS: \u001b[0mSchool enrollment, primary (gross), gender parity index (GPI) has 14 NA \u001b[91m0.01804123711340206\n",
      "\u001b[94mWB_SD__SE_ENR_PRSC_FM_ZS: \u001b[0mSchool enrollment, primary and secondary (gross), gender parity index (GPI) has 15 NA \u001b[91m0.019329896907216496\n",
      "\u001b[94mWB_SD__SE_ENR_SECO_FM_ZS: \u001b[0mSchool enrollment, secondary (gross), gender parity index (GPI) has 15 NA \u001b[91m0.019329896907216496\n",
      "\u001b[94mWB_SD__SE_ENR_TERT_FM_ZS: \u001b[0mSchool enrollment, tertiary (gross), gender parity index (GPI) has 27 NA \u001b[91m0.03479381443298969\n",
      "\u001b[94mWB_SD__SG_GEN_PARL_ZS: \u001b[0mProportion of seats held by women in national parliaments (%) has 13 NA \u001b[91m0.01675257731958763\n",
      "\u001b[94mWB_SD__SH_HIV_1524_FE_ZS: \u001b[0mPrevalence of HIV, female (% ages 15-24) has 65 NA \u001b[91m0.08376288659793814\n",
      "\u001b[94mWB_SD__SH_HIV_1524_MA_ZS: \u001b[0mPrevalence of HIV, male (% ages 15-24) has 65 NA \u001b[91m0.08376288659793814\n",
      "\u001b[94mWB_SD__SL_EMP_VULN_FE_ZS: \u001b[0mVulnerable employment, female (% of female employment) (modeled ILO estimate) has 12 NA \u001b[91m0.015463917525773196\n",
      "\u001b[94mWB_SD__SL_EMP_VULN_MA_ZS: \u001b[0mVulnerable employment, male (% of male employment) (modeled ILO estimate) has 12 NA \u001b[91m0.015463917525773196\n",
      "\u001b[94mWB_SD__SL_TLF_0714_FE_ZS: \u001b[0mChildren in employment, female (% of female children ages 7-14) has 137 NA \u001b[91m0.17654639175257733\n",
      "\u001b[94mWB_SD__SL_TLF_0714_MA_ZS: \u001b[0mChildren in employment, male (% of male children ages 7-14) has 137 NA \u001b[91m0.17654639175257733\n",
      "\u001b[94mWB_SD__SL_TLF_0714_SW_FE_ZS: \u001b[0mChildren in employment, study and work, female (% of female children in employment, ages 7-14) has 134 NA \u001b[91m0.17268041237113402\n",
      "\u001b[94mWB_SD__SL_TLF_0714_SW_MA_ZS: \u001b[0mChildren in employment, study and work, male (% of male children in employment, ages 7-14) has 134 NA \u001b[91m0.17268041237113402\n",
      "\u001b[94mWB_SD__SL_TLF_0714_SW_ZS: \u001b[0mChildren in employment, study and work (% of children in employment, ages 7-14) has 137 NA \u001b[91m0.17654639175257733\n",
      "\u001b[94mWB_SD__SL_TLF_0714_WK_FE_ZS: \u001b[0mChildren in employment, work only, female (% of female children in employment, ages 7-14) has 134 NA \u001b[91m0.17268041237113402\n",
      "\u001b[94mWB_SD__SL_TLF_0714_WK_MA_ZS: \u001b[0mChildren in employment, work only, male (% of male children in employment, ages 7-14) has 134 NA \u001b[91m0.17268041237113402\n",
      "\u001b[94mWB_SD__SL_TLF_0714_WK_ZS: \u001b[0mChildren in employment, work only (% of children in employment, ages 7-14) has 137 NA \u001b[91m0.17654639175257733\n",
      "\u001b[94mWB_SD__SL_TLF_0714_ZS: \u001b[0mChildren in employment, total (% of children ages 7-14) has 137 NA \u001b[91m0.17654639175257733\n",
      "\u001b[94mWB_SD__SL_TLF_ACTI_1524_FE_ZS: \u001b[0mLabor force participation rate for ages 15-24, female (%) (modeled ILO estimate) has 12 NA \u001b[91m0.015463917525773196\n",
      "\u001b[94mWB_SD__SL_TLF_ACTI_1524_MA_ZS: \u001b[0mLabor force participation rate for ages 15-24, male (%) (modeled ILO estimate) has 12 NA \u001b[91m0.015463917525773196\n",
      "\u001b[94mWB_SD__SL_TLF_ACTI_1524_ZS: \u001b[0mLabor force participation rate for ages 15-24, total (%) (modeled ILO estimate) has 12 NA \u001b[91m0.015463917525773196\n",
      "\u001b[94mWB_SD__SL_TLF_ACTI_FE_ZS: \u001b[0mLabor force participation rate, female (% of female population ages 15-64) (modeled ILO estimate) has 12 NA \u001b[91m0.015463917525773196\n",
      "\u001b[94mWB_SD__SL_TLF_ACTI_MA_ZS: \u001b[0mLabor force participation rate, male (% of male population ages 15-64) (modeled ILO estimate) has 12 NA \u001b[91m0.015463917525773196\n",
      "\u001b[94mWB_SD__SL_TLF_ACTI_ZS: \u001b[0mLabor force participation rate, total (% of total population ages 15-64) (modeled ILO estimate) has 12 NA \u001b[91m0.015463917525773196\n",
      "\u001b[94mWB_SD__SL_TLF_CACT_FE_ZS: \u001b[0mLabor force participation rate, female (% of female population ages 15+) (modeled ILO estimate) has 12 NA \u001b[91m0.015463917525773196\n",
      "\u001b[94mWB_SD__SL_TLF_CACT_MA_ZS: \u001b[0mLabor force participation rate, male (% of male population ages 15+) (modeled ILO estimate) has 12 NA \u001b[91m0.015463917525773196\n",
      "\u001b[94mWB_SD__SL_UEM_TOTL_FE_ZS: \u001b[0mUnemployment, female (% of female labor force) (modeled ILO estimate) has 12 NA \u001b[91m0.015463917525773196\n",
      "\u001b[94mWB_SD__SL_UEM_TOTL_MA_ZS: \u001b[0mUnemployment, male (% of male labor force) (modeled ILO estimate) has 12 NA \u001b[91m0.015463917525773196\n",
      "\u001b[94mWB_SD__SM_POP_REFG: \u001b[0mRefugee population by country or territory of asylum has 29 NA \u001b[91m0.037371134020618556\n",
      "\u001b[94mWB_SD__SM_POP_REFG_OR: \u001b[0mRefugee population by country or territory of origin has 13 NA \u001b[91m0.01675257731958763\n",
      "\u001b[94mWB_SD__SP_ADO_TFRT: \u001b[0mAdolescent fertility rate (births per 1,000 women ages 15-19) has 12 NA \u001b[91m0.015463917525773196\n",
      "\u001b[94mWB_SD__SP_DYN_LE00_FE_IN: \u001b[0mLife expectancy at birth, female (years) has 11 NA \u001b[91m0.014175257731958763\n",
      "\u001b[94mWB_SD__SP_DYN_LE00_MA_IN: \u001b[0mLife expectancy at birth, male (years) has 11 NA \u001b[91m0.014175257731958763\n"
     ]
    }
   ],
   "source": [
    "fields = ['WB_ARD__AG_SRF_TOTL_K2', 'WB_SE__WB_NY_GDP_MKTP_KD_ZG', 'WB_ARD__SP_RUR_TOTL', 'WB_ARD__EG_ELC_ACCS_RU_ZS', 'WB_ARD__AG_LND_TOTL_RU_K2',\n",
    "          'WB_ARD__AG_LND_FRST_K2', 'WB_ARD__AG_LND_ARBL_ZS', 'WB_ARD__AG_LND_AGRI_K2', 'WB_ARD__AG_CON_FERT_ZS','WB_ARD__AG_LND_PRCP_MM','WB_ARD__EN_ATM_METH_AG_KT_CE',\n",
    "         'WB_ARD__EN_ATM_NOXE_AG_KT_CE','WB_ARD__NV_AGR_TOTL_ZS','WB_ARD__TM_VAL_AGRI_ZS_UN','WB_ARD__TX_VAL_AGRI_ZS_UN','WB_ARD__AG_LND_TOTL_K2',\n",
    "         'WB_ARD__SL_AGR_EMPL_ZS']\n",
    "fields_3 = list(country_features.keys())\n",
    "for x in fields_3:\n",
    "    df = country_features[x]\n",
    "    if x in fields:\n",
    "        print('\\033[94m'+x+': '+'\\033[92m'+A_country.description[x]+' has '+str(sum(df.isna()))+' NA '+'\\033[91m'+str(sum(df.isna())/len(df)))\n",
    "    else:\n",
    "        print('\\033[94m'+x+': '+'\\033[0m'+A_country.description[x]+' has '+str(sum(df.isna()))+' NA '+'\\033[91m'+str(sum(df.isna())/len(df)))"
   ]
  },
  {
   "cell_type": "code",
   "execution_count": 12,
   "metadata": {},
   "outputs": [],
   "source": [
    "fields = ['WB_ARD__AG_SRF_TOTL_K2', 'WB_SE__WB_NY_GDP_MKTP_KD_ZG', 'WB_ARD__SP_RUR_TOTL', 'WB_ARD__EG_ELC_ACCS_RU_ZS', 'WB_ARD__AG_LND_TOTL_RU_K2',\n",
    "          'WB_ARD__AG_LND_FRST_K2', 'WB_ARD__AG_LND_ARBL_ZS', 'WB_ARD__AG_LND_AGRI_K2', 'WB_ARD__AG_CON_FERT_ZS','WB_ARD__AG_LND_PRCP_MM','WB_ARD__EN_ATM_METH_AG_KT_CE',\n",
    "         'WB_ARD__EN_ATM_NOXE_AG_KT_CE','WB_ARD__NV_AGR_TOTL_ZS','WB_ARD__TM_VAL_AGRI_ZS_UN','WB_ARD__TX_VAL_AGRI_ZS_UN','WB_ARD__AG_LND_TOTL_K2',\n",
    "         'WB_ARD__SL_AGR_EMPL_ZS']\n",
    "imputed_ = []\n",
    "for x in fields:\n",
    "    df_temp = country_features[x]\n",
    "    imputed_.append(fast_imputation(df_temp))"
   ]
  },
  {
   "cell_type": "code",
   "execution_count": 13,
   "metadata": {},
   "outputs": [],
   "source": [
    "all_points_new = copy.deepcopy(all_points)"
   ]
  },
  {
   "cell_type": "markdown",
   "metadata": {},
   "source": [
    "#### New dataset"
   ]
  },
  {
   "cell_type": "code",
   "execution_count": 14,
   "metadata": {},
   "outputs": [],
   "source": [
    "for i in range(len(fields)):\n",
    "    x = fields[i]\n",
    "    all_points_new[x] = imputed_[i]\n",
    "\n",
    "all_points_new.to_pickle('./data/all_points_new.pkl')"
   ]
  },
  {
   "cell_type": "code",
   "execution_count": 15,
   "metadata": {},
   "outputs": [
    {
     "name": "stdout",
     "output_type": "stream",
     "text": [
      "<class 'pandas.core.frame.DataFrame'>\n",
      "Int64Index: 22107 entries, 0 to 19999\n",
      "Data columns (total 23 columns):\n",
      "lat                             22107 non-null object\n",
      "long                            22107 non-null float64\n",
      "country                         22107 non-null object\n",
      "year                            22107 non-null object\n",
      "positive                        22107 non-null int64\n",
      "random                          22107 non-null int64\n",
      "WB_ARD__AG_SRF_TOTL_K2          1525 non-null float64\n",
      "WB_SE__WB_NY_GDP_MKTP_KD_ZG     1525 non-null float64\n",
      "WB_ARD__SP_RUR_TOTL             1525 non-null float64\n",
      "WB_ARD__EG_ELC_ACCS_RU_ZS       1525 non-null float64\n",
      "WB_ARD__AG_LND_TOTL_RU_K2       1525 non-null float64\n",
      "WB_ARD__AG_LND_FRST_K2          1525 non-null float64\n",
      "WB_ARD__AG_LND_ARBL_ZS          1525 non-null float64\n",
      "WB_ARD__AG_LND_AGRI_K2          1525 non-null float64\n",
      "WB_ARD__AG_CON_FERT_ZS          1525 non-null float64\n",
      "WB_ARD__AG_LND_PRCP_MM          1525 non-null float64\n",
      "WB_ARD__EN_ATM_METH_AG_KT_CE    1525 non-null float64\n",
      "WB_ARD__EN_ATM_NOXE_AG_KT_CE    1525 non-null float64\n",
      "WB_ARD__NV_AGR_TOTL_ZS          1525 non-null float64\n",
      "WB_ARD__TM_VAL_AGRI_ZS_UN       1525 non-null float64\n",
      "WB_ARD__TX_VAL_AGRI_ZS_UN       1525 non-null float64\n",
      "WB_ARD__AG_LND_TOTL_K2          1525 non-null float64\n",
      "WB_ARD__SL_AGR_EMPL_ZS          1525 non-null float64\n",
      "dtypes: float64(18), int64(2), object(3)\n",
      "memory usage: 4.0+ MB\n"
     ]
    }
   ],
   "source": [
    "all_points_new.info()"
   ]
  },
  {
   "cell_type": "markdown",
   "metadata": {},
   "source": [
    "#### The columns added are (in order):"
   ]
  },
  {
   "cell_type": "code",
   "execution_count": 16,
   "metadata": {},
   "outputs": [
    {
     "name": "stdout",
     "output_type": "stream",
     "text": [
      "Surface area (sq. km)\n",
      "GDP growth (annual %)\n",
      "Rural population\n",
      "Access to electricity, rural (% of rural population)\n",
      "Rural land area (sq. km)\n",
      "Forest area (sq. km)\n",
      "Arable land (% of land area)\n",
      "Agricultural land (sq. km)\n",
      "Fertilizer consumption (kilograms per hectare of arable land)\n",
      "Average precipitation in depth (mm per year)\n",
      "Agricultural methane emissions (thousand metric tons of CO2 equivalent)\n",
      "Agricultural nitrous oxide emissions (thousand metric tons of CO2 equivalent)\n",
      "Agriculture, forestry, and fishing, value added (% of GDP)\n",
      "Agricultural raw materials imports (% of merchandise imports)\n",
      "Agricultural raw materials exports (% of merchandise exports)\n",
      "Land area (sq. km)\n",
      "Employment in agriculture (% of total employment) (modeled ILO estimate)\n"
     ]
    }
   ],
   "source": [
    "for x in fields:\n",
    "    print(A_country.description[x])"
   ]
  },
  {
   "cell_type": "markdown",
   "metadata": {},
   "source": [
    "#### Also this paper https://academic.oup.com/bioinformatics/article/21/8/1509/249540, suggests that for highly correlated features the optimal feature size is\n",
    "#### sqrt(N), where N is the sample size. For us this would be roughly 116 features.. "
   ]
  },
  {
   "cell_type": "code",
   "execution_count": 18,
   "metadata": {},
   "outputs": [],
   "source": [
    "gdp = country_features['WB_SE__WB_NY_GDP_MKTP_KD_ZG']"
   ]
  },
  {
   "cell_type": "code",
   "execution_count": 22,
   "metadata": {},
   "outputs": [
    {
     "data": {
      "text/plain": [
       "4.834865000000001"
      ]
     },
     "execution_count": 22,
     "metadata": {},
     "output_type": "execute_result"
    }
   ],
   "source": []
  },
  {
   "cell_type": "code",
   "execution_count": null,
   "metadata": {},
   "outputs": [],
   "source": []
  }
 ],
 "metadata": {
  "kernelspec": {
   "display_name": "Python 3",
   "language": "python",
   "name": "python3"
  },
  "language_info": {
   "codemirror_mode": {
    "name": "ipython",
    "version": 3
   },
   "file_extension": ".py",
   "mimetype": "text/x-python",
   "name": "python",
   "nbconvert_exporter": "python",
   "pygments_lexer": "ipython3",
   "version": "3.6.5"
  }
 },
 "nbformat": 4,
 "nbformat_minor": 2
}
